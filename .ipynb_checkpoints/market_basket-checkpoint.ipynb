{
 "cells": [
  {
   "cell_type": "code",
   "execution_count": null,
   "id": "94102247-455a-4cef-9e22-20b21030e7c9",
   "metadata": {},
   "outputs": [],
   "source": [
    "import pandas as pd\n",
    "from sklearn.model_selection import train_test_split\n",
    "\n",
    "# Load dataset\n",
    "df = pd.read_csv(r\"C:\\Users\\ADMIN\\Machine Learning\\MarketBasketApp\\market_basket_data.csv\")\n",
    "\n",
    "# Split data into train and test by TransactionID\n",
    "train_ids, test_ids = train_test_split(df['TransactionID'].unique(), test_size=0.2, random_state=42)\n",
    "train_df = df[df['TransactionID'].isin(train_ids)]\n",
    "test_df = df[df['TransactionID'].isin(test_ids)]\n",
    "def create_basket(data):\n",
    "    basket = data.groupby(['TransactionID', 'Item'])['Item'].count().unstack().fillna(0)\n",
    "    return basket.astype(bool)\n",
    "\n",
    "train_basket = create_basket(train_df)\n",
    "test_basket = create_basket(test_df)\n",
    "from mlxtend.frequent_patterns import apriori, association_rules\n",
    "\n",
    "frequent_itemsets = apriori(train_basket, min_support=0.01, use_colnames=True)\n",
    "rules = association_rules(frequent_itemsets, metric=\"lift\", min_threshold=1.0)\n",
    "def evaluate_rules(rules, test_basket):\n",
    "    correct = 0\n",
    "    total = 0\n",
    "\n",
    "    for _, row in rules.iterrows():\n",
    "        antecedents = list(row['antecedents'])\n",
    "        consequents = list(row['consequents'])\n",
    "\n",
    "        for _, transaction in test_basket.iterrows():\n",
    "            if all(transaction.get(item, 0) == 1 for item in antecedents):\n",
    "                total += 1\n",
    "                if all(transaction.get(item, 0) == 1 for item in consequents):\n",
    "                    correct += 1\n",
    "\n",
    "    accuracy = correct / total if total > 0 else 0\n",
    "    return accuracy\n",
    "\n",
    "accuracy = evaluate_rules(rules, test_basket)\n",
    "print(f\"📈 Accuracy on test set: {accuracy:.2%}\")\n"
   ]
  },
  {
   "cell_type": "code",
   "execution_count": null,
   "id": "699d60f0-d397-4f76-95c4-ebaea018752f",
   "metadata": {},
   "outputs": [],
   "source": []
  }
 ],
 "metadata": {
  "kernelspec": {
   "display_name": "Python 3 (ipykernel)",
   "language": "python",
   "name": "python3"
  },
  "language_info": {
   "codemirror_mode": {
    "name": "ipython",
    "version": 3
   },
   "file_extension": ".py",
   "mimetype": "text/x-python",
   "name": "python",
   "nbconvert_exporter": "python",
   "pygments_lexer": "ipython3",
   "version": "3.10.11"
  }
 },
 "nbformat": 4,
 "nbformat_minor": 5
}
